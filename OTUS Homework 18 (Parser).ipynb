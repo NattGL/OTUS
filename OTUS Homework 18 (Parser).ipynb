{
 "cells": [
  {
   "cell_type": "markdown",
   "metadata": {},
   "source": [
    "# Parser\n",
    "\n",
    "## Homework #11 by Glaktionova Natalia\n",
    "\n",
    "Top 100 Language Learning Youtube Channels for Language Learners & Polyglots"
   ]
  },
  {
   "cell_type": "code",
   "execution_count": 23,
   "metadata": {},
   "outputs": [],
   "source": [
    "import requests  \n",
    "from bs4 import BeautifulSoup\n",
    "import pandas as pd   \n",
    "import time  \n",
    "\n",
    "import matplotlib.pyplot as plt\n",
    "%matplotlib inline"
   ]
  },
  {
   "cell_type": "code",
   "execution_count": 3,
   "metadata": {},
   "outputs": [],
   "source": [
    "page_link = 'https://blog.feedspot.com/language_learning_youtube_channels/'"
   ]
  },
  {
   "cell_type": "code",
   "execution_count": 4,
   "metadata": {},
   "outputs": [
    {
     "data": {
      "text/plain": [
       "<Response [200]>"
      ]
     },
     "execution_count": 4,
     "metadata": {},
     "output_type": "execute_result"
    }
   ],
   "source": [
    "response = requests.get(page_link)\n",
    "response"
   ]
  },
  {
   "cell_type": "code",
   "execution_count": 5,
   "metadata": {},
   "outputs": [],
   "source": [
    "html = response.content"
   ]
  },
  {
   "cell_type": "code",
   "execution_count": 6,
   "metadata": {},
   "outputs": [],
   "source": [
    "soup = BeautifulSoup(html,'html.parser')                                  "
   ]
  },
  {
   "cell_type": "code",
   "execution_count": 7,
   "metadata": {},
   "outputs": [],
   "source": [
    "df = pd.DataFrame()"
   ]
  },
  {
   "cell_type": "code",
   "execution_count": 8,
   "metadata": {},
   "outputs": [],
   "source": [
    "names = soup.findAll('a', attrs = {'class':'tlink'})\n",
    "names = [name.text for name in names]"
   ]
  },
  {
   "cell_type": "code",
   "execution_count": 9,
   "metadata": {},
   "outputs": [],
   "source": [
    "df['Name'] = names"
   ]
  },
  {
   "cell_type": "code",
   "execution_count": 10,
   "metadata": {},
   "outputs": [],
   "source": [
    "about = []\n",
    "since = []\n",
    "for strong_tag in soup.find_all('p', attrs = {'class':'trow trow-wrap'}):\n",
    "    about.append(strong_tag.find('strong', text=\"About Youtuber\").next_sibling.strip())\n",
    "    since.append(strong_tag.find('strong', text=\"Since\").next_sibling.strip())"
   ]
  },
  {
   "cell_type": "code",
   "execution_count": 11,
   "metadata": {},
   "outputs": [],
   "source": [
    "freq = []\n",
    "for strong_tag in soup.find_all('p', attrs = {'class':'trow trow-wrap'}):\n",
    "    if strong_tag.find('strong', text=\"Frequency\") is None:\n",
    "        freq.append('')\n",
    "    else:\n",
    "        freq.append(strong_tag.find('strong', text=\"Frequency\").next_sibling.strip())"
   ]
  },
  {
   "cell_type": "code",
   "execution_count": 12,
   "metadata": {},
   "outputs": [],
   "source": [
    "df['About'] = about\n",
    "df['Frequency'] = freq\n",
    "df['Since'] = since"
   ]
  },
  {
   "cell_type": "code",
   "execution_count": 13,
   "metadata": {},
   "outputs": [],
   "source": [
    "links = soup.find_all('a', attrs = {'class':'ext'})\n",
    "links = [link.attrs['href'] for link in links]"
   ]
  },
  {
   "cell_type": "code",
   "execution_count": 14,
   "metadata": {},
   "outputs": [],
   "source": [
    "df['Link'] = links"
   ]
  },
  {
   "cell_type": "code",
   "execution_count": 15,
   "metadata": {},
   "outputs": [],
   "source": [
    "followers = []\n",
    "views = []\n",
    "videos = []\n",
    "for info in soup.find_all('span', attrs = {'class':'follow'}):\n",
    "    infos = info.next_sibling.next_sibling.next_sibling.text.split('.')\n",
    "    followers.append(infos[0].split('- ')[1].strip().replace(',','')) \n",
    "    views.append(infos[1].split('- ')[1].strip().replace(',',''))\n",
    "    videos.append(infos[2].split('- ')[1].strip().replace(',',''))"
   ]
  },
  {
   "cell_type": "code",
   "execution_count": 16,
   "metadata": {},
   "outputs": [],
   "source": [
    "followers = list(map(lambda x:0 if x==\"n/a\" else int(x), followers))\n",
    "views = list(map(lambda x:0 if x==\"n/a\" else int(x), views))\n",
    "videos = list(map(lambda x:0 if x==\"n/a\" else int(x), videos))"
   ]
  },
  {
   "cell_type": "code",
   "execution_count": 17,
   "metadata": {},
   "outputs": [],
   "source": [
    "df['Followers'] = followers\n",
    "df['Views'] = views\n",
    "df['Videos'] = videos"
   ]
  },
  {
   "cell_type": "markdown",
   "metadata": {},
   "source": [
    "**Готовый датасет**"
   ]
  },
  {
   "cell_type": "code",
   "execution_count": 45,
   "metadata": {},
   "outputs": [
    {
     "data": {
      "text/html": [
       "<div>\n",
       "<style scoped>\n",
       "    .dataframe tbody tr th:only-of-type {\n",
       "        vertical-align: middle;\n",
       "    }\n",
       "\n",
       "    .dataframe tbody tr th {\n",
       "        vertical-align: top;\n",
       "    }\n",
       "\n",
       "    .dataframe thead th {\n",
       "        text-align: right;\n",
       "    }\n",
       "</style>\n",
       "<table border=\"1\" class=\"dataframe\">\n",
       "  <thead>\n",
       "    <tr style=\"text-align: right;\">\n",
       "      <th></th>\n",
       "      <th>Name</th>\n",
       "      <th>About</th>\n",
       "      <th>Frequency</th>\n",
       "      <th>Since</th>\n",
       "      <th>Link</th>\n",
       "      <th>Followers</th>\n",
       "      <th>Views</th>\n",
       "      <th>Videos</th>\n",
       "    </tr>\n",
       "  </thead>\n",
       "  <tbody>\n",
       "    <tr>\n",
       "      <th>0</th>\n",
       "      <td>Easy Languages</td>\n",
       "      <td>We are a non-profit project aiming to help peo...</td>\n",
       "      <td>1 video / day</td>\n",
       "      <td>Jul 2006</td>\n",
       "      <td>https://www.youtube.com/user/magauchsein/videos</td>\n",
       "      <td>828000</td>\n",
       "      <td>111638657</td>\n",
       "      <td>2352</td>\n",
       "    </tr>\n",
       "    <tr>\n",
       "      <th>1</th>\n",
       "      <td>Babbel</td>\n",
       "      <td>Babbel is the new way to learn a foreign langu...</td>\n",
       "      <td>1 video / month</td>\n",
       "      <td>Apr 2009</td>\n",
       "      <td>https://www.youtube.com/user/LessonNine/videos</td>\n",
       "      <td>167000</td>\n",
       "      <td>47060007</td>\n",
       "      <td>241</td>\n",
       "    </tr>\n",
       "    <tr>\n",
       "      <th>2</th>\n",
       "      <td>Sleep Learning</td>\n",
       "      <td>Welcome to our Sleep Learning YouTube channel....</td>\n",
       "      <td>2 videos / quarter</td>\n",
       "      <td>Nov 2011</td>\n",
       "      <td>https://www.youtube.com/channel/UC8hrVYljKmaDd...</td>\n",
       "      <td>468000</td>\n",
       "      <td>17407938</td>\n",
       "      <td>29</td>\n",
       "    </tr>\n",
       "    <tr>\n",
       "      <th>3</th>\n",
       "      <td>Steve Kaufmann - lingosteve</td>\n",
       "      <td>If you're passionate about languages, you're i...</td>\n",
       "      <td>1 video / day</td>\n",
       "      <td>Jul 2007</td>\n",
       "      <td>https://www.youtube.com/user/lingosteve/videos</td>\n",
       "      <td>183000</td>\n",
       "      <td>17766345</td>\n",
       "      <td>1309</td>\n",
       "    </tr>\n",
       "    <tr>\n",
       "      <th>4</th>\n",
       "      <td>Benny Lewis</td>\n",
       "      <td>I'm Benny the Irish Polyglot, and I make video...</td>\n",
       "      <td>3 videos / year</td>\n",
       "      <td>Oct 2006</td>\n",
       "      <td>https://www.youtube.com/user/irishpolyglot/videos</td>\n",
       "      <td>100000</td>\n",
       "      <td>11597357</td>\n",
       "      <td>289</td>\n",
       "    </tr>\n",
       "    <tr>\n",
       "      <th>5</th>\n",
       "      <td>Luca Lampariello</td>\n",
       "      <td>This channel is dedicated to my biggest passio...</td>\n",
       "      <td>1 video / week</td>\n",
       "      <td>May 2008</td>\n",
       "      <td>https://www.youtube.com/user/poliglotta80/videos</td>\n",
       "      <td>108000</td>\n",
       "      <td>7654915</td>\n",
       "      <td>168</td>\n",
       "    </tr>\n",
       "    <tr>\n",
       "      <th>6</th>\n",
       "      <td>laoshu505000</td>\n",
       "      <td>A program which helps the language learner bec...</td>\n",
       "      <td>2 videos / week</td>\n",
       "      <td>Oct 2006</td>\n",
       "      <td>https://www.youtube.com/user/laoshu505000/videos</td>\n",
       "      <td>953000</td>\n",
       "      <td>132876155</td>\n",
       "      <td>3006</td>\n",
       "    </tr>\n",
       "    <tr>\n",
       "      <th>7</th>\n",
       "      <td>Learn English with Emma</td>\n",
       "      <td>Hi, my name is Emma, TESOL-certified and I'm g...</td>\n",
       "      <td>1 video / week</td>\n",
       "      <td>Dec 2011</td>\n",
       "      <td>https://www.youtube.com/user/EnglishTeacherEmm...</td>\n",
       "      <td>2830000</td>\n",
       "      <td>152161717</td>\n",
       "      <td>163</td>\n",
       "    </tr>\n",
       "    <tr>\n",
       "      <th>8</th>\n",
       "      <td>Learn Arabic with Maha</td>\n",
       "      <td>My name is Maha and I'm a language teacher. Th...</td>\n",
       "      <td>2 videos / week</td>\n",
       "      <td>Nov 2008</td>\n",
       "      <td>https://www.youtube.com/user/LearnArabicwithMa...</td>\n",
       "      <td>475000</td>\n",
       "      <td>62661804</td>\n",
       "      <td>467</td>\n",
       "    </tr>\n",
       "    <tr>\n",
       "      <th>9</th>\n",
       "      <td>Anglo-Link</td>\n",
       "      <td>Our goal is to help you learn, improve and mas...</td>\n",
       "      <td>2 videos / quarter</td>\n",
       "      <td>Jul 2011</td>\n",
       "      <td>https://www.youtube.com/user/MinooAngloLink/vi...</td>\n",
       "      <td>1230000</td>\n",
       "      <td>90978049</td>\n",
       "      <td>99</td>\n",
       "    </tr>\n",
       "  </tbody>\n",
       "</table>\n",
       "</div>"
      ],
      "text/plain": [
       "                          Name  \\\n",
       "0               Easy Languages   \n",
       "1                       Babbel   \n",
       "2               Sleep Learning   \n",
       "3  Steve Kaufmann - lingosteve   \n",
       "4                  Benny Lewis   \n",
       "5             Luca Lampariello   \n",
       "6                 laoshu505000   \n",
       "7     Learn English with Emma    \n",
       "8       Learn Arabic with Maha   \n",
       "9                   Anglo-Link   \n",
       "\n",
       "                                               About           Frequency  \\\n",
       "0  We are a non-profit project aiming to help peo...       1 video / day   \n",
       "1  Babbel is the new way to learn a foreign langu...     1 video / month   \n",
       "2  Welcome to our Sleep Learning YouTube channel....  2 videos / quarter   \n",
       "3  If you're passionate about languages, you're i...       1 video / day   \n",
       "4  I'm Benny the Irish Polyglot, and I make video...     3 videos / year   \n",
       "5  This channel is dedicated to my biggest passio...      1 video / week   \n",
       "6  A program which helps the language learner bec...     2 videos / week   \n",
       "7  Hi, my name is Emma, TESOL-certified and I'm g...      1 video / week   \n",
       "8  My name is Maha and I'm a language teacher. Th...     2 videos / week   \n",
       "9  Our goal is to help you learn, improve and mas...  2 videos / quarter   \n",
       "\n",
       "      Since                                               Link  Followers  \\\n",
       "0  Jul 2006    https://www.youtube.com/user/magauchsein/videos     828000   \n",
       "1  Apr 2009     https://www.youtube.com/user/LessonNine/videos     167000   \n",
       "2  Nov 2011  https://www.youtube.com/channel/UC8hrVYljKmaDd...     468000   \n",
       "3  Jul 2007     https://www.youtube.com/user/lingosteve/videos     183000   \n",
       "4  Oct 2006  https://www.youtube.com/user/irishpolyglot/videos     100000   \n",
       "5  May 2008   https://www.youtube.com/user/poliglotta80/videos     108000   \n",
       "6  Oct 2006   https://www.youtube.com/user/laoshu505000/videos     953000   \n",
       "7  Dec 2011  https://www.youtube.com/user/EnglishTeacherEmm...    2830000   \n",
       "8  Nov 2008  https://www.youtube.com/user/LearnArabicwithMa...     475000   \n",
       "9  Jul 2011  https://www.youtube.com/user/MinooAngloLink/vi...    1230000   \n",
       "\n",
       "       Views  Videos  \n",
       "0  111638657    2352  \n",
       "1   47060007     241  \n",
       "2   17407938      29  \n",
       "3   17766345    1309  \n",
       "4   11597357     289  \n",
       "5    7654915     168  \n",
       "6  132876155    3006  \n",
       "7  152161717     163  \n",
       "8   62661804     467  \n",
       "9   90978049      99  "
      ]
     },
     "execution_count": 45,
     "metadata": {},
     "output_type": "execute_result"
    }
   ],
   "source": [
    "df.head(10)"
   ]
  },
  {
   "cell_type": "markdown",
   "metadata": {},
   "source": [
    " "
   ]
  },
  {
   "cell_type": "markdown",
   "metadata": {},
   "source": [
    "Найдем каналы с самым большим количеством подписчиков"
   ]
  },
  {
   "cell_type": "code",
   "execution_count": 53,
   "metadata": {},
   "outputs": [
    {
     "data": {
      "text/html": [
       "<div>\n",
       "<style scoped>\n",
       "    .dataframe tbody tr th:only-of-type {\n",
       "        vertical-align: middle;\n",
       "    }\n",
       "\n",
       "    .dataframe tbody tr th {\n",
       "        vertical-align: top;\n",
       "    }\n",
       "\n",
       "    .dataframe thead th {\n",
       "        text-align: right;\n",
       "    }\n",
       "</style>\n",
       "<table border=\"1\" class=\"dataframe\">\n",
       "  <thead>\n",
       "    <tr style=\"text-align: right;\">\n",
       "      <th></th>\n",
       "      <th>Name</th>\n",
       "      <th>About</th>\n",
       "      <th>Frequency</th>\n",
       "      <th>Since</th>\n",
       "      <th>Link</th>\n",
       "      <th>Followers</th>\n",
       "      <th>Views</th>\n",
       "      <th>Videos</th>\n",
       "    </tr>\n",
       "  </thead>\n",
       "  <tbody>\n",
       "    <tr>\n",
       "      <th>10</th>\n",
       "      <td>Learn English with EnglishClass101.com</td>\n",
       "      <td>EnglishClass101.com is an online English langu...</td>\n",
       "      <td>1 video / day</td>\n",
       "      <td>Mar 2007</td>\n",
       "      <td>https://www.youtube.com/user/ENGLISHCLASS101/v...</td>\n",
       "      <td>3670000</td>\n",
       "      <td>150896131</td>\n",
       "      <td>1139</td>\n",
       "    </tr>\n",
       "    <tr>\n",
       "      <th>11</th>\n",
       "      <td>English with Lucy</td>\n",
       "      <td>Learn beautiful British English for free on Yo...</td>\n",
       "      <td>1 video / week</td>\n",
       "      <td>Jan 2016</td>\n",
       "      <td>https://www.youtube.com/channel/UCz4tgANd4yy8O...</td>\n",
       "      <td>3560000</td>\n",
       "      <td>125797849</td>\n",
       "      <td>216</td>\n",
       "    </tr>\n",
       "    <tr>\n",
       "      <th>7</th>\n",
       "      <td>Learn English with Emma</td>\n",
       "      <td>Hi, my name is Emma, TESOL-certified and I'm g...</td>\n",
       "      <td>1 video / week</td>\n",
       "      <td>Dec 2011</td>\n",
       "      <td>https://www.youtube.com/user/EnglishTeacherEmm...</td>\n",
       "      <td>2830000</td>\n",
       "      <td>152161717</td>\n",
       "      <td>163</td>\n",
       "    </tr>\n",
       "    <tr>\n",
       "      <th>12</th>\n",
       "      <td>BBC Learning English</td>\n",
       "      <td>Learn how to speak English with the BBC. Every...</td>\n",
       "      <td>1 video / day</td>\n",
       "      <td>Jun 2008</td>\n",
       "      <td>https://www.youtube.com/user/bbclearningenglis...</td>\n",
       "      <td>2550000</td>\n",
       "      <td>123129133</td>\n",
       "      <td>2190</td>\n",
       "    </tr>\n",
       "    <tr>\n",
       "      <th>92</th>\n",
       "      <td>Daily English Conversation</td>\n",
       "      <td>Daily English Conversation is a free Channel f...</td>\n",
       "      <td>4 videos / year</td>\n",
       "      <td>Oct 2014</td>\n",
       "      <td>https://www.youtube.com/channel/UCV1h_cBE0Drdx...</td>\n",
       "      <td>1970000</td>\n",
       "      <td>90418543</td>\n",
       "      <td>184</td>\n",
       "    </tr>\n",
       "  </tbody>\n",
       "</table>\n",
       "</div>"
      ],
      "text/plain": [
       "                                      Name  \\\n",
       "10  Learn English with EnglishClass101.com   \n",
       "11                       English with Lucy   \n",
       "7                 Learn English with Emma    \n",
       "12                    BBC Learning English   \n",
       "92              Daily English Conversation   \n",
       "\n",
       "                                                About        Frequency  \\\n",
       "10  EnglishClass101.com is an online English langu...    1 video / day   \n",
       "11  Learn beautiful British English for free on Yo...   1 video / week   \n",
       "7   Hi, my name is Emma, TESOL-certified and I'm g...   1 video / week   \n",
       "12  Learn how to speak English with the BBC. Every...    1 video / day   \n",
       "92  Daily English Conversation is a free Channel f...  4 videos / year   \n",
       "\n",
       "       Since                                               Link  Followers  \\\n",
       "10  Mar 2007  https://www.youtube.com/user/ENGLISHCLASS101/v...    3670000   \n",
       "11  Jan 2016  https://www.youtube.com/channel/UCz4tgANd4yy8O...    3560000   \n",
       "7   Dec 2011  https://www.youtube.com/user/EnglishTeacherEmm...    2830000   \n",
       "12  Jun 2008  https://www.youtube.com/user/bbclearningenglis...    2550000   \n",
       "92  Oct 2014  https://www.youtube.com/channel/UCV1h_cBE0Drdx...    1970000   \n",
       "\n",
       "        Views  Videos  \n",
       "10  150896131    1139  \n",
       "11  125797849     216  \n",
       "7   152161717     163  \n",
       "12  123129133    2190  \n",
       "92   90418543     184  "
      ]
     },
     "execution_count": 53,
     "metadata": {},
     "output_type": "execute_result"
    }
   ],
   "source": [
    "df.sort_values(by='Followers', ascending=False).head()"
   ]
  },
  {
   "cell_type": "markdown",
   "metadata": {},
   "source": [
    " "
   ]
  },
  {
   "cell_type": "markdown",
   "metadata": {},
   "source": [
    "Посмотрим зависимость просмотров от количества подписчиков"
   ]
  },
  {
   "cell_type": "code",
   "execution_count": 46,
   "metadata": {},
   "outputs": [
    {
     "data": {
      "image/png": "[encoded data removed]",
      "text/plain": [
       "<Figure size 1440x432 with 1 Axes>"
      ]
     },
     "metadata": {
      "needs_background": "light"
     },
     "output_type": "display_data"
    }
   ],
   "source": [
    "plt.figure(figsize=(20,6))\n",
    "plt.scatter(x = df.Followers, y = df.Views, marker = '*',  s=70)\n",
    "plt.xlabel(\"Followers\")\n",
    "plt.ylabel(\"Views\")\n",
    "plt.show();"
   ]
  }
 ],
 "metadata": {
  "kernelspec": {
   "display_name": "Python 3",
   "language": "python",
   "name": "python3"
  },
  "language_info": {
   "codemirror_mode": {
    "name": "ipython",
    "version": 3
   },
   "file_extension": ".py",
   "mimetype": "text/x-python",
   "name": "python",
   "nbconvert_exporter": "python",
   "pygments_lexer": "ipython3",
   "version": "3.7.4"
  },
  "varInspector": {
   "cols": {
    "lenName": 16,
    "lenType": 16,
    "lenVar": 40
   },
   "kernels_config": {
    "python": {
     "delete_cmd_postfix": "",
     "delete_cmd_prefix": "del ",
     "library": "var_list.py",
     "varRefreshCmd": "print(var_dic_list())"
    },
    "r": {
     "delete_cmd_postfix": ") ",
     "delete_cmd_prefix": "rm(",
     "library": "var_list.r",
     "varRefreshCmd": "cat(var_dic_list()) "
    }
   },
   "types_to_exclude": [
    "module",
    "function",
    "builtin_function_or_method",
    "instance",
    "_Feature"
   ],
   "window_display": false
  }
 },
 "nbformat": 4,
 "nbformat_minor": 2
}
